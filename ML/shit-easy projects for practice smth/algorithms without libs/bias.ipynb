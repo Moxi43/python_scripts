{
 "metadata": {
  "language_info": {
   "codemirror_mode": {
    "name": "ipython",
    "version": 3
   },
   "file_extension": ".py",
   "mimetype": "text/x-python",
   "name": "python",
   "nbconvert_exporter": "python",
   "pygments_lexer": "ipython3",
   "version": 3
  },
  "orig_nbformat": 2,
  "kernelspec": {
   "name": "python_defaultSpec_1596058260015",
   "display_name": "Python 3.8.3 64-bit"
  }
 },
 "nbformat": 4,
 "nbformat_minor": 2,
 "cells": [
  {
   "cell_type": "code",
   "execution_count": 2,
   "metadata": {},
   "outputs": [],
   "source": [
    "import numpy as np \n",
    "import pandas as pd\n",
    "from sklearn.model_selection import train_test_split"
   ]
  },
  {
   "cell_type": "code",
   "execution_count": 3,
   "metadata": {},
   "outputs": [],
   "source": [
    "data = pd.read_csv('C:\\\\code\\\\ML-practicE\\\\shit-easy projects for practice smth\\\\algorithms without libs\\\\datasets\\\\data_spam.csv')\n"
   ]
  },
  {
   "cell_type": "code",
   "execution_count": 4,
   "metadata": {},
   "outputs": [
    {
     "output_type": "execute_result",
     "data": {
      "text/plain": "0    0.833333\n1    0.166667\nName: spam, dtype: float64"
     },
     "metadata": {},
     "execution_count": 4
    }
   ],
   "source": [
    "data['spam'].value_counts(normalize=True)"
   ]
  },
  {
   "cell_type": "code",
   "execution_count": 5,
   "metadata": {},
   "outputs": [],
   "source": [
    "X = data['sms']\n",
    "y = data['spam']\n",
    "\n",
    "X_train, X_test, y_train, y_test = train_test_split(X, y, test_size=0.33)"
   ]
  },
  {
   "cell_type": "code",
   "execution_count": 6,
   "metadata": {},
   "outputs": [
    {
     "output_type": "execute_result",
     "data": {
      "text/plain": "'url URL date NUMBER NUMBER NUMBERtNUMBER NUMBER NUMBER NUMBER NUMBER uk latest support for military action against iraq among british voters has fallen to NUMBER the lowest level recorded while the guardian icm survey has been running '"
     },
     "metadata": {},
     "execution_count": 6
    }
   ],
   "source": [
    "str(X_train.values[1])"
   ]
  },
  {
   "cell_type": "code",
   "execution_count": 7,
   "metadata": {
    "tags": []
   },
   "outputs": [
    {
     "output_type": "stream",
     "name": "stdout",
     "text": "(['from', 'anders', 'eriksson', 'aeriksson', 'fastmail', 'fm', 'date', 'mon', 'NUMBER', 'aug', 'NUMBER', 'NUMBER', 'NUMBER', 'NUMBER', 'NUMBER', 'just', 'cvs', 'up', 'ed', 'and', 'nowadays', 'catch', 'up', 'unseen', 'is', '__extremely__', 'slow', 'on', 'large', 'NUMBER', 'msgs', 'unseen', 'sequences', 'anybody', 'else', 'having', 'this', 'problem', 'i', 'll', 'take', 'the', 'blame', 'the', 'reason', 'i', 'suspect', 'is', 'that', 'we', 're', 'needlessly', 'reading', 'the', 'sequences', 'file', 'multiple', 'times', 'because', 'of', 'other', 'sequences', 'i', 'need', 'to', 'make', 'the', 'code', 'much', 'smarter', 'about', 'handling', 'that', 'file', 'but', 'first', 'i', 'have', 'a', 'few', 'other', 'fish', 'to', 'fry', 'in', 'my', 'rather', 'large', 'patch', 'that', 's', 'on', 'it', 's', 'way', 'no', 'panic', 'i', 'm', 'all', 'for', 'cleaning', 'things', 'up', 'before', 'getting', 'it', 'optimized', 'okay', 'this', 'fix', 'is', 'now', 'checked', 'in', 'chris', 'chris', 'garrigues', 'URL', 'vircio', 'URL', 'NUMBER', 'congress', 'suite', 'NUMBER', 'austin', 'tx', 'NUMBER', 'NUMBER', 'NUMBER', 'NUMBER', 'NUMBER', 'world', 'war', 'iii', 'the', 'wrong', 'doers', 'vs', 'the', 'evil', 'doers'], 0, 0)\n"
    }
   ],
   "source": [
    "array = []\n",
    "total = 0\n",
    "numspam = 0 \n",
    "for words in range(len(X_train)):\n",
    "    array.append((str(X_train.values[words]).split(), words, int(y_train.values[words])))\n",
    "    if array[words][2] == 1:\n",
    "        numspam += 1\n",
    "    total += 1\n",
    "pA = numspam/float(total)\n",
    "pNotA = (total - numspam)/float(total)\n",
    "print(array[0])\n"
   ]
  },
  {
   "cell_type": "code",
   "execution_count": null,
   "metadata": {},
   "outputs": [],
   "source": [
    "def processEmail(words, spam):\n",
    "    "
   ]
  }
 ]
}